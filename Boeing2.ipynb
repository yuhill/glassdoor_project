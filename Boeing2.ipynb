{
 "cells": [
  {
   "cell_type": "code",
   "execution_count": 4,
   "metadata": {
    "collapsed": true
   },
   "outputs": [],
   "source": [
    "import requests\n",
    "import bs4\n",
    "import pandas as pd\n",
    "import numpy as np\n",
    "from decimal import *\n",
    "import time"
   ]
  },
  {
   "cell_type": "code",
   "execution_count": 13,
   "metadata": {},
   "outputs": [
    {
     "name": "stdout",
     "output_type": "stream",
     "text": [
      "[('Systems Engineer ', '$97,380 per year'), ('Software Engineer III ', '$99,128 per year'), ('Software Engineer II ', '$81,599 per year'), ('Software Engineer ', '$88,513 per year'), ('Intern - Hourly', '$23.92 hourly'), ('Engineer ', '$89,510 per year'), ('Project Manager ', '$93,972 per year'), ('Software Engineer I ', '$68,103 per year'), ('Systems Engineer III ', '$99,135 per year'), ('Procurement Agent II ', '$59,983 per year'), ('Procurement Agent III ', '$73,215 per year'), ('Systems Engineer II ', '$82,200 per year'), ('Manufacturing Engineer ', '$76,206 per year'), ('Business Analyst ', '$68,967 per year'), ('Financial Analyst ', '$62,164 per year')]\n",
      "[('Software Engineer ', '$96,230 per year'), ('Systems Analyst ', '$108,424 per year'), ('Project Manager/Comp and Info Syst Manager ', '$90,902 per year'), ('Engineer III ', '$74,364 per year'), ('Intern - Hourly - Hourly', '$17.67 hourly'), ('Senior Software Engineer ', 'About $84k - $120k'), ('Senior Mechanical Design Engineer ', 'About $76k - $93k'), ('SVT Engineer II - Hourly', 'About $32 - $35 hourly'), ('Senior Engineer ', 'About $92k - $106k'), ('Staff Accountant ', 'About $46k - $80k'), ('Program Director ', 'About $125k - $159k'), ('Project Manager/Computer and Info Systems Manager ', 'About $88k - $94k'), ('Airline Marketing Analyst ', 'About $72k - $92k'), ('Financial Analyst ', 'About $74k - $91k'), ('Senior Systems Analyst ', 'About $95k - $112k')]\n"
     ]
    }
   ],
   "source": [
    "def download_website(page_url):\n",
    "    s = requests.session()\n",
    "    headers={'User-Agent': 'Mozilla/5.0 (Macintosh; Intel Mac OS X 10.12; rv:54.0) Gecko/20100101 Firefox/54.0'}\n",
    "    s.get(\"https://www.glassdoor.com\", headers=headers)\n",
    "    parsed_boeing = bs4.BeautifulSoup(s.get(page_url, headers=headers).text, 'html.parser')\n",
    "    return parsed_boeing\n",
    "\n",
    "#download_website(\"https://www.glassdoor.com/Salary/Boeing-Salaries-E102.htm\")\n",
    "def get_salary_table(page):\n",
    "    salaries_html = page.find_all('div', class_=\"salaryChartModule\")[0]\n",
    "    return salaries_html\n",
    "\n",
    "def find_titles_and_salaries(table):\n",
    "    list_of_salary_divs = table.find_all('div', class_=\"meanPay alignRt\")\n",
    "    salary_list = []\n",
    "    for salary_div in list_of_salary_divs:\n",
    "        salary_text = salary_div.get_text()\n",
    "        #\n",
    "        salary_numeric=salary_text.split()\n",
    "       # print(salary_numeric)\n",
    "        salary_annualized = []\n",
    "        for line in salary_numeric:\n",
    "            if salary_numeric[1] =='hourly':\n",
    "                salary_numeric1 = salary_numeric[0].split('$')[1]\n",
    "                salary_annualized = Decimal(salary_numeric1)*2080#.replace(\".\",\"\"))\n",
    "            elif salary_numeric[0] =='About':    \n",
    "                salary_annualized = Decimal(salary_numeric[1].split('$')[1].split('k')[0])*1000\n",
    "            else:\n",
    "                salary_annualized=Decimal(salary_numeric[0].split('$')[1].replace(\",\",\"\"))\n",
    "        #print(salary_annualized)\n",
    "        #\n",
    "        salary_list.append(salary_text)\n",
    "    list_of_title_divs = table.find_all('a', class_=\"noMargVert jobTitle\")\n",
    "    title_list = []\n",
    "    for title_div in list_of_title_divs:\n",
    "        title_text = title_div.get_text()\n",
    "        title_list.append(title_text)\n",
    "    return list(zip(title_list,salary_list))\n",
    "\n",
    "def extract_salaries(page_url):\n",
    "    webpage = download_website(page_url)\n",
    "    salary_table = get_salary_table(webpage)\n",
    "    salaries = find_salaries(salary_table)\n",
    "    return salaries\n",
    "\n",
    "#boeing = extract_salaries(\"https://www.glassdoor.com/Salary/Boeing-Salaries-E102.htm\")\n",
    "#airbus = extract_salaries(\"https://www.glassdoor.com/Salary/Airbus-Salaries-E3059.htm\")\n",
    "#airlines = boeing + airbus\n",
    "#print(airlines)\n",
    "\n",
    "list_urls = [\"https://www.glassdoor.com/Salary/Boeing-Salaries-E102.htm\",\n",
    "             \"https://www.glassdoor.com/Salary/Airbus-Salaries-E3059.htm\"]\n",
    "\n",
    "def add_company_to_salary_info(titles_and_salaries, company_name):\n",
    "    result = []\n",
    "    for title, salary in titles_and_salaries:\n",
    "        result.append((company_name, title, salary))\n",
    "    return result\n",
    "    \n",
    "\n",
    "companies = list()\n",
    "for page in list_urls:\n",
    "    titles_and_salaries = find_titles_and_salaries(download_website(page))\n",
    "    print(titles_and_salaries)\n",
    "    company_name = page.split('-')[0].split('/')[-1]\n",
    "    print(add_company_to_salary_info(titles_and_salaries, company_name))\n",
    "    #companies = companies + salaries\n",
    "    #print(type(salaries))\n",
    "    #print(salaries)\n",
    " #   time.sleep(1)\n",
    "#print(companies)\n",
    "#salary_split=salary_df.Salary.split('')"
   ]
  },
  {
   "cell_type": "code",
   "execution_count": 14,
   "metadata": {},
   "outputs": [
    {
     "ename": "AttributeError",
     "evalue": "'Series' object has no attribute 'split'",
     "traceback": [
      "\u001b[1;31m---------------------------------------------------------------------------\u001b[0m",
      "\u001b[1;31mAttributeError\u001b[0m                            Traceback (most recent call last)",
      "\u001b[1;32m<ipython-input-14-0b0e990c5ab8>\u001b[0m in \u001b[0;36m<module>\u001b[1;34m()\u001b[0m\n\u001b[0;32m      4\u001b[0m \u001b[1;31m#Sort by salaries\u001b[0m\u001b[1;33m\u001b[0m\u001b[1;33m\u001b[0m\u001b[0m\n\u001b[0;32m      5\u001b[0m \u001b[0msalary_df\u001b[0m\u001b[1;33m=\u001b[0m\u001b[0mpd\u001b[0m\u001b[1;33m.\u001b[0m\u001b[0mDataFrame\u001b[0m\u001b[1;33m(\u001b[0m\u001b[0mcompanies\u001b[0m\u001b[1;33m,\u001b[0m \u001b[0mcolumns\u001b[0m \u001b[1;33m=\u001b[0m \u001b[1;33m[\u001b[0m\u001b[1;34m'Title'\u001b[0m\u001b[1;33m,\u001b[0m \u001b[1;34m'Salary'\u001b[0m\u001b[1;33m]\u001b[0m\u001b[1;33m)\u001b[0m\u001b[1;33m\u001b[0m\u001b[0m\n\u001b[1;32m----> 6\u001b[1;33m \u001b[0msalary_split\u001b[0m\u001b[1;33m=\u001b[0m\u001b[0msalary_df\u001b[0m\u001b[1;33m.\u001b[0m\u001b[0mSalary\u001b[0m\u001b[1;33m.\u001b[0m\u001b[0msplit\u001b[0m\u001b[1;33m(\u001b[0m\u001b[1;34m''\u001b[0m\u001b[1;33m)\u001b[0m\u001b[1;33m\u001b[0m\u001b[0m\n\u001b[0m\u001b[0;32m      7\u001b[0m \u001b[0mprint\u001b[0m\u001b[1;33m(\u001b[0m\u001b[0msalary_split\u001b[0m\u001b[1;33m)\u001b[0m\u001b[1;33m\u001b[0m\u001b[0m\n",
      "\u001b[1;32mc:\\users\\jhill\\appdata\\local\\continuum\\miniconda3\\envs\\pumpkins\\lib\\site-packages\\pandas\\core\\generic.py\u001b[0m in \u001b[0;36m__getattr__\u001b[1;34m(self, name)\u001b[0m\n\u001b[0;32m   3079\u001b[0m             \u001b[1;32mif\u001b[0m \u001b[0mname\u001b[0m \u001b[1;32min\u001b[0m \u001b[0mself\u001b[0m\u001b[1;33m.\u001b[0m\u001b[0m_info_axis\u001b[0m\u001b[1;33m:\u001b[0m\u001b[1;33m\u001b[0m\u001b[0m\n\u001b[0;32m   3080\u001b[0m                 \u001b[1;32mreturn\u001b[0m \u001b[0mself\u001b[0m\u001b[1;33m[\u001b[0m\u001b[0mname\u001b[0m\u001b[1;33m]\u001b[0m\u001b[1;33m\u001b[0m\u001b[0m\n\u001b[1;32m-> 3081\u001b[1;33m             \u001b[1;32mreturn\u001b[0m \u001b[0mobject\u001b[0m\u001b[1;33m.\u001b[0m\u001b[0m__getattribute__\u001b[0m\u001b[1;33m(\u001b[0m\u001b[0mself\u001b[0m\u001b[1;33m,\u001b[0m \u001b[0mname\u001b[0m\u001b[1;33m)\u001b[0m\u001b[1;33m\u001b[0m\u001b[0m\n\u001b[0m\u001b[0;32m   3082\u001b[0m \u001b[1;33m\u001b[0m\u001b[0m\n\u001b[0;32m   3083\u001b[0m     \u001b[1;32mdef\u001b[0m \u001b[0m__setattr__\u001b[0m\u001b[1;33m(\u001b[0m\u001b[0mself\u001b[0m\u001b[1;33m,\u001b[0m \u001b[0mname\u001b[0m\u001b[1;33m,\u001b[0m \u001b[0mvalue\u001b[0m\u001b[1;33m)\u001b[0m\u001b[1;33m:\u001b[0m\u001b[1;33m\u001b[0m\u001b[0m\n",
      "\u001b[1;31mAttributeError\u001b[0m: 'Series' object has no attribute 'split'"
     ],
     "output_type": "error"
    }
   ],
   "source": [
    "#Add company name\n",
    "#Units \n",
    "#Extract numeric value\n",
    "#Sort by salaries\n",
    "salary_df=pd.DataFrame(companies, columns = ['Title', 'Salary'])\n",
    "salary_split=salary_df.Salary.split('')\n",
    "print(salary_split)"
   ]
  },
  {
   "cell_type": "code",
   "execution_count": null,
   "metadata": {
    "collapsed": true
   },
   "outputs": [],
   "source": []
  }
 ],
 "metadata": {
  "kernelspec": {
   "display_name": "Python 3",
   "language": "python",
   "name": "python3"
  },
  "language_info": {
   "codemirror_mode": {
    "name": "ipython",
    "version": 3
   },
   "file_extension": ".py",
   "mimetype": "text/x-python",
   "name": "python",
   "nbconvert_exporter": "python",
   "pygments_lexer": "ipython3",
   "version": "3.6.1"
  }
 },
 "nbformat": 4,
 "nbformat_minor": 2
}
